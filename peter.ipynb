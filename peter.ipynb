{
 "cells": [
  {
   "cell_type": "code",
   "execution_count": null,
   "metadata": {},
   "outputs": [],
   "source": [
    "import pandas as pd\n",
    "import matplotlib.pyplot as plt\n",
    "import statsmodels.formula.api as smf\n",
    "import numpy as np\n",
    "from sklearn.metrics import precision_recall_fscore_support\n",
    "import random\n",
    "import seaborn as sns\n",
    "\n",
    "from sklearn import svm\n",
    "\n",
    "from sklearn.linear_model import LogisticRegression"
   ]
  },
  {
   "cell_type": "code",
   "execution_count": null,
   "metadata": {},
   "outputs": [],
   "source": [
    "origDf = pd.read_csv('./Bank_Customer.csv')\n",
    "\n",
    "bankDf = origDf.copy()"
   ]
  },
  {
   "cell_type": "markdown",
   "metadata": {},
   "source": [
    "# Visualization"
   ]
  },
  {
   "cell_type": "code",
   "execution_count": null,
   "metadata": {},
   "outputs": [],
   "source": [
    "bankDf.head()"
   ]
  },
  {
   "cell_type": "code",
   "execution_count": null,
   "metadata": {},
   "outputs": [],
   "source": [
    "bankDf['gender'] = bankDf['gender'].map({'Female': 0, 'Male': 1})\n",
    "\n",
    "bankDfOne = pd.get_dummies(bankDf['country'])\n",
    "bankDfOne = bankDfOne.astype(int)\n",
    "\n",
    "bankDf = pd.concat([bankDf, bankDfOne], axis=1)\n",
    "\n",
    "bankDf = bankDf.drop(columns=['country'])\n",
    "\n",
    "display(bankDf)\n",
    "display(bankDf.dtypes)"
   ]
  },
  {
   "cell_type": "code",
   "execution_count": null,
   "metadata": {},
   "outputs": [],
   "source": [
    "sns.heatmap(bankDf.corr(), annot=True, cmap='coolwarm', fmt=\".2f\")"
   ]
  },
  {
   "cell_type": "code",
   "execution_count": null,
   "metadata": {},
   "outputs": [],
   "source": [
    "sns.heatmap(bankDf.drop(columns=['France', 'Germany', 'Spain']).corr(), annot=True, cmap='coolwarm', fmt=\".2f\")"
   ]
  },
  {
   "cell_type": "code",
   "execution_count": null,
   "metadata": {},
   "outputs": [],
   "source": [
    "minAge = min(bankDf.age)\n",
    "maxAge = max(bankDf.age)\n",
    "\n",
    "difference = maxAge-minAge\n",
    "\n",
    "plt.hist(bankDf.age, bins = difference)\n",
    "plt.xlabel('Age')"
   ]
  },
  {
   "cell_type": "code",
   "execution_count": null,
   "metadata": {},
   "outputs": [],
   "source": [
    "churn_counts = origDf.groupby(['gender', 'churn']).size().unstack()\n",
    "\n",
    "# Plot the bar plot\n",
    "churn_counts.plot(kind='bar', stacked=True)\n",
    "plt.title('Churn Rate by Gender')\n",
    "plt.xlabel('Gender')\n",
    "plt.ylabel('Number of Customers')\n",
    "plt.xticks(rotation=0)\n",
    "plt.legend(title='Churn', labels=['Not Churned', 'Churned'])\n",
    "plt.show()"
   ]
  },
  {
   "cell_type": "code",
   "execution_count": null,
   "metadata": {},
   "outputs": [],
   "source": [
    "plt.hist(bankDf.churn)\n",
    "plt.xlabel('Churn')"
   ]
  },
  {
   "cell_type": "code",
   "execution_count": null,
   "metadata": {},
   "outputs": [],
   "source": [
    "palette = ['#1f77b4', '#ff7f0e']\n",
    "\n",
    "plt.figure(figsize=(10, 6))\n",
    "sns.scatterplot(data=bankDf, x='age', y='gender', hue='churn', palette=palette)\n",
    "plt.title('Churn Status by Age and Gender')\n",
    "plt.xlabel('Age')\n",
    "plt.ylabel('Gender')\n",
    "plt.legend(title='Churn', labels=['Not Churned', 'Churned'])\n",
    "plt.show()"
   ]
  },
  {
   "cell_type": "code",
   "execution_count": null,
   "metadata": {},
   "outputs": [],
   "source": [
    "display(min(bankDf.balance))\n",
    "display(max(bankDf.balance))\n",
    "\n",
    "plt.hist(bankDf.balance)\n",
    "plt.xlabel('Balance')"
   ]
  },
  {
   "cell_type": "markdown",
   "metadata": {},
   "source": [
    "# Models"
   ]
  },
  {
   "cell_type": "code",
   "execution_count": null,
   "metadata": {},
   "outputs": [],
   "source": [
    "bankDf.age = (bankDf.age - bankDf.age.mean()) / bankDf.age.std()\n",
    "bankDf.gender = (bankDf.gender - bankDf.gender.mean()) / bankDf.gender.std()\n",
    "bankDf.balance = (bankDf.balance  - bankDf.balance .mean()) / bankDf.balance.std()"
   ]
  },
  {
   "cell_type": "markdown",
   "metadata": {},
   "source": [
    "Logistic Regression"
   ]
  },
  {
   "cell_type": "code",
   "execution_count": null,
   "metadata": {},
   "outputs": [],
   "source": [
    "X = bankDf[['age', 'gender']]\n",
    "y = bankDf.churn\n",
    "\n",
    "lm = lm = LogisticRegression(class_weight={0:0.2, 1:0.8})\n",
    "lm.fit(X, y)\n",
    "\n",
    "y_pred = lm.predict(X)\n",
    "\n",
    "display(y_pred)\n",
    "\n",
    "display('predicted range: [{0:.2f},{1:.2f}]'.format(min(y_pred), max(y_pred)))\n",
    "\n",
    "p,r,f,s = precision_recall_fscore_support(y, y_pred, labels=[0,1])\n",
    "display('precision = {}'.format(p))\n",
    "display('recall = {}'.format(r))\n",
    "display('f-score = {}'.format(f))"
   ]
  },
  {
   "cell_type": "markdown",
   "metadata": {},
   "source": [
    "SVM"
   ]
  },
  {
   "cell_type": "code",
   "execution_count": null,
   "metadata": {},
   "outputs": [],
   "source": [
    "clf = svm.SVC(kernel='poly', degree = 2)\n",
    "clf.fit(X.values, y)\n",
    "\n",
    "y_pred = clf.predict(X)\n",
    "p,r,f,s = precision_recall_fscore_support(y, y_pred)\n",
    "display('f-score = {}'.format(f))"
   ]
  },
  {
   "cell_type": "markdown",
   "metadata": {},
   "source": [
    "Sampling Data to Balance"
   ]
  },
  {
   "cell_type": "markdown",
   "metadata": {},
   "source": [
    "Polynomial Kernel"
   ]
  },
  {
   "cell_type": "code",
   "execution_count": null,
   "metadata": {},
   "outputs": [],
   "source": [
    "from imblearn.over_sampling import RandomOverSampler\n",
    "\n",
    "clf = svm.SVC(kernel='poly', degree = 2)\n",
    "\n",
    "ros = RandomOverSampler(random_state=42)\n",
    "X_resampled, y_resampled = ros.fit_resample(X, y)\n",
    "clf.fit(X_resampled, y_resampled)\n",
    "\n",
    "y_pred_resampled = clf.predict(X_resampled)\n",
    "p,r,f,s = precision_recall_fscore_support(y_resampled, y_pred_resampled)\n",
    "display('Precision: {}, Recall: {}, f-score = {}, Support: {}'.format(p,r,f,s))"
   ]
  },
  {
   "cell_type": "code",
   "execution_count": null,
   "metadata": {},
   "outputs": [],
   "source": [
    "lm = lm = LogisticRegression(class_weight={0:0.2, 1:0.8})\n",
    "lm.fit(X_resampled, y_resampled)\n",
    "\n",
    "y_pred_resampled = lm.predict(X_resampled)\n",
    "\n",
    "display(y_pred_resampled)\n",
    "\n",
    "display('predicted range: [{0:.2f},{1:.2f}]'.format(min(y_pred_resampled), max(y_pred_resampled)))\n",
    "\n",
    "p,r,f,s = precision_recall_fscore_support(y_resampled, y_pred_resampled, labels=[0,1])\n",
    "display('Precision: {}, Recall: {}, f-score = {}, Support: {}'.format(p,r,f,s))"
   ]
  },
  {
   "cell_type": "markdown",
   "metadata": {},
   "source": [
    "RBF Kernel"
   ]
  },
  {
   "cell_type": "code",
   "execution_count": null,
   "metadata": {},
   "outputs": [],
   "source": [
    "clf = svm.SVC(kernel='rbf', class_weight={0:1, 1:1})\n",
    "\n",
    "clf.fit(X_resampled, y_resampled)\n",
    "\n",
    "y_pred_resampled = clf.predict(X_resampled)\n",
    "p,r,f,s = precision_recall_fscore_support(y_resampled, y_pred_resampled)\n",
    "display('Precision: {}, Recall: {}, f-score = {}, Support: {}'.format(p,r,f,s))"
   ]
  },
  {
   "cell_type": "markdown",
   "metadata": {},
   "source": [
    "Different Class Weights"
   ]
  },
  {
   "cell_type": "code",
   "execution_count": null,
   "metadata": {},
   "outputs": [],
   "source": [
    "clf = svm.SVC(kernel='poly', degree = 2, class_weight={0:1, 1:2})\n",
    "\n",
    "ros = RandomOverSampler(random_state=42)\n",
    "X_resampled, y_resampled = ros.fit_resample(X, y)\n",
    "clf.fit(X_resampled, y_resampled)\n",
    "\n",
    "y_pred_resampled = clf.predict(X_resampled)\n",
    "p,r,f,s = precision_recall_fscore_support(y_resampled, y_pred_resampled)\n",
    "display('Precision: {}, Recall: {}, f-score = {}, Support: {}'.format(p,r,f,s))"
   ]
  },
  {
   "cell_type": "code",
   "execution_count": null,
   "metadata": {},
   "outputs": [],
   "source": [
    "clf = svm.SVC(kernel='rbf', class_weight={0:1, 1:2})\n",
    "\n",
    "clf.fit(X_resampled, y_resampled)\n",
    "\n",
    "y_pred_resampled = clf.predict(X_resampled)\n",
    "p,r,f,s = precision_recall_fscore_support(y_resampled, y_pred_resampled)\n",
    "display('Precision: {}, Recall: {}, f-score = {}, Support: {}'.format(p,r,f,s))"
   ]
  },
  {
   "cell_type": "markdown",
   "metadata": {},
   "source": [
    "# Best Model:"
   ]
  },
  {
   "cell_type": "code",
   "execution_count": null,
   "metadata": {},
   "outputs": [],
   "source": [
    "clf = svm.SVC(kernel='rbf', class_weight={0:1, 1:1})\n",
    "\n",
    "clf.fit(X_resampled, y_resampled)\n",
    "\n",
    "y_pred_resampled = clf.predict(X_resampled)\n",
    "p,r,f,s = precision_recall_fscore_support(y_resampled, y_pred_resampled)\n",
    "display('Precision: {}, Recall: {}, f-score = {}, Support: {}'.format(p,r,f,s))"
   ]
  },
  {
   "cell_type": "markdown",
   "metadata": {},
   "source": [
    "Generalizable:"
   ]
  },
  {
   "cell_type": "code",
   "execution_count": null,
   "metadata": {},
   "outputs": [],
   "source": [
    "from sklearn.model_selection import train_test_split\n",
    "from sklearn.metrics import classification_report"
   ]
  },
  {
   "cell_type": "code",
   "execution_count": null,
   "metadata": {},
   "outputs": [],
   "source": [
    "X_train, X_test, y_train, y_test = train_test_split(X_resampled, y_resampled, test_size=0.2, random_state=42)\n",
    "\n",
    "clf.fit(X_train, y_train)\n",
    "\n",
    "y_pred = clf.predict(X_test)\n",
    "\n",
    "p,r,f,s = precision_recall_fscore_support(y_test, y_pred)\n",
    "display('Precision: {}, Recall: {}, f-score = {}, Support: {}'.format(p,r,f,s))\n"
   ]
  }
 ],
 "metadata": {
  "kernelspec": {
   "display_name": "Python 3",
   "language": "python",
   "name": "python3"
  },
  "language_info": {
   "codemirror_mode": {
    "name": "ipython",
    "version": 3
   },
   "file_extension": ".py",
   "mimetype": "text/x-python",
   "name": "python",
   "nbconvert_exporter": "python",
   "pygments_lexer": "ipython3",
   "version": "3.10.1"
  }
 },
 "nbformat": 4,
 "nbformat_minor": 2
}
