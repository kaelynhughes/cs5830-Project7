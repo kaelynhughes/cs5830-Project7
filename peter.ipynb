{
 "cells": [
  {
   "cell_type": "code",
   "execution_count": null,
   "metadata": {},
   "outputs": [],
   "source": [
    "import pandas as pd\n",
    "import matplotlib.pyplot as plt\n",
    "import statsmodels.formula.api as smf\n",
    "import numpy as np\n",
    "from sklearn.metrics import precision_recall_fscore_support\n",
    "import random\n",
    "import seaborn as sns\n",
    "\n",
    "from sklearn.linear_model import LogisticRegression"
   ]
  },
  {
   "cell_type": "code",
   "execution_count": null,
   "metadata": {},
   "outputs": [],
   "source": [
    "bankDf = pd.read_csv('./Bank_Customer.csv')"
   ]
  },
  {
   "cell_type": "markdown",
   "metadata": {},
   "source": [
    "# Visualization"
   ]
  },
  {
   "cell_type": "code",
   "execution_count": null,
   "metadata": {},
   "outputs": [],
   "source": [
    "bankDf.head()"
   ]
  },
  {
   "cell_type": "code",
   "execution_count": null,
   "metadata": {},
   "outputs": [],
   "source": [
    "bankDf['gender'] = bankDf['gender'].map({'Female': 0, 'Male': 1})\n",
    "\n",
    "bankDfOne = pd.get_dummies(bankDf['country'])\n",
    "bankDfOne = bankDfOne.astype(int)\n",
    "\n",
    "bankDf = pd.concat([bankDf, bankDfOne], axis=1)\n",
    "\n",
    "bankDf = bankDf.drop(columns=['country'])\n",
    "\n",
    "display(bankDf)\n",
    "display(bankDf.dtypes)"
   ]
  },
  {
   "cell_type": "code",
   "execution_count": null,
   "metadata": {},
   "outputs": [],
   "source": [
    "sns.heatmap(bankDf.corr(), annot=True, cmap='coolwarm', fmt=\".2f\")"
   ]
  },
  {
   "cell_type": "code",
   "execution_count": null,
   "metadata": {},
   "outputs": [],
   "source": [
    "sns.heatmap(bankDf.drop(columns=['France', 'Germany', 'Spain']).corr(), annot=True, cmap='coolwarm', fmt=\".2f\")"
   ]
  },
  {
   "cell_type": "code",
   "execution_count": null,
   "metadata": {},
   "outputs": [],
   "source": [
    "minAge = min(bankDf.age)\n",
    "maxAge = max(bankDf.age)\n",
    "\n",
    "difference = maxAge-minAge\n",
    "\n",
    "plt.hist(bankDf.age, bins = difference)\n",
    "plt.xlabel('Age')"
   ]
  },
  {
   "cell_type": "code",
   "execution_count": null,
   "metadata": {},
   "outputs": [],
   "source": [
    "plt.hist(bankDf.churn)\n",
    "plt.xlabel('Churn')"
   ]
  },
  {
   "cell_type": "code",
   "execution_count": null,
   "metadata": {},
   "outputs": [],
   "source": [
    "display(min(bankDf.balance))\n",
    "display(max(bankDf.balance))\n",
    "\n",
    "plt.hist(bankDf.balance)\n",
    "plt.xlabel('Balance')"
   ]
  },
  {
   "cell_type": "code",
   "execution_count": null,
   "metadata": {},
   "outputs": [],
   "source": [
    "X = bankDf[['age', 'gender']]\n",
    "y = bankDf.churn\n",
    "\n",
    "lm = lm = LogisticRegression(class_weight={0:0.2, 1:0.8})\n",
    "lm.fit(X, y)\n",
    "\n",
    "y_pred = lm.predict(X)\n",
    "\n",
    "display(y_pred)\n",
    "\n",
    "display('predicted range: [{0:.2f},{1:.2f}]'.format(min(y_pred), max(y_pred)))\n",
    "\n",
    "p,r,f,s = precision_recall_fscore_support(y, y_pred, labels=[0,1])\n",
    "display('precision = {}'.format(p))\n",
    "display('recall = {}'.format(r))\n",
    "display('f-score = {}'.format(f))"
   ]
  }
 ],
 "metadata": {
  "kernelspec": {
   "display_name": "Python 3",
   "language": "python",
   "name": "python3"
  },
  "language_info": {
   "codemirror_mode": {
    "name": "ipython",
    "version": 3
   },
   "file_extension": ".py",
   "mimetype": "text/x-python",
   "name": "python",
   "nbconvert_exporter": "python",
   "pygments_lexer": "ipython3",
   "version": "3.10.1"
  }
 },
 "nbformat": 4,
 "nbformat_minor": 2
}
