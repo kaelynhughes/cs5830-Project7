{
 "cells": [
  {
   "cell_type": "markdown",
   "metadata": {},
   "source": [
    "# Income Dataset"
   ]
  },
  {
   "cell_type": "markdown",
   "metadata": {},
   "source": [
    "## Prep data"
   ]
  },
  {
   "cell_type": "code",
   "execution_count": null,
   "metadata": {},
   "outputs": [],
   "source": [
    "import pandas\n",
    "# this library contains a bunch of datasets & allows you to import them in python!\n",
    "# this specific dataset isn't available in csv format so this is the best way to get that data\n",
    "from ucimlrepo import fetch_ucirepo\n",
    "import matplotlib.pyplot as plt\n",
    "from sklearn import svm\n",
    "from sklearn.linear_model import LogisticRegression\n",
    "from sklearn.metrics import precision_recall_fscore_support\n",
    "from sklearn.model_selection import train_test_split\n",
    "import random"
   ]
  },
  {
   "cell_type": "code",
   "execution_count": null,
   "metadata": {},
   "outputs": [],
   "source": [
    "# get the actual data\n",
    "fetchedData = fetch_ucirepo(id=2)\n",
    "# get pandas dataframes from that data\n",
    "X = fetchedData.data.features.copy()\n",
    "Y = fetchedData.data.targets.copy()\n",
    "\n",
    "# Some of the income values are formatted differently than others\n",
    "Y['income'] = Y['income'].map({'<=50K.': '<=50K', '>50K.': '>50K', '<=50K': '<=50K', '>50K': '>50K'})\n",
    "\n",
    "# This makes it easier to use the integer-form education and hours-per-week columns later.\n",
    "X = X.rename(columns={'education-num': 'educationNum', 'hours-per-week': 'hoursPerWeek'})"
   ]
  },
  {
   "cell_type": "markdown",
   "metadata": {},
   "source": [
    "We'll look at the distribution of income categories before further preparing the data."
   ]
  },
  {
   "cell_type": "code",
   "execution_count": null,
   "metadata": {},
   "outputs": [],
   "source": [
    "plot = Y['income'].value_counts().plot.pie()"
   ]
  },
  {
   "cell_type": "code",
   "execution_count": null,
   "metadata": {},
   "outputs": [],
   "source": [
    "Y['income'] = Y['income'].map({ '<=50K': 0, '>50K': 1 })\n",
    "\n",
    "# create a combined dataframe so we can access both at once\n",
    "all = pandas.concat([X, Y], axis=1)"
   ]
  },
  {
   "cell_type": "markdown",
   "metadata": {},
   "source": [
    "We're going to look at a couple more visualizations of our most interesting features before we standardize them."
   ]
  },
  {
   "cell_type": "code",
   "execution_count": null,
   "metadata": {},
   "outputs": [],
   "source": [
    "plt.hist(all.age, bins=30, rwidth=0.95)\n",
    "plt.xlabel('Age')\n",
    "plt.ylabel('Quantity')\n",
    "plt.show()"
   ]
  },
  {
   "cell_type": "code",
   "execution_count": null,
   "metadata": {},
   "outputs": [],
   "source": [
    "plt.hist(all.educationNum, bins=16, rwidth=0.95)\n",
    "plt.xlabel('Education Level')\n",
    "plt.ylabel('Quantity')\n",
    "plt.show()\n",
    "# 9: HS grad\n",
    "# 10: some college\n",
    "# 13: bachelor's degree"
   ]
  },
  {
   "cell_type": "code",
   "execution_count": null,
   "metadata": {},
   "outputs": [],
   "source": [
    "# Standardize some inputs\n",
    "X.age = (X.age - X.age.mean()) / X.age.std()\n",
    "X.educationNum = (X.educationNum - X.educationNum.mean()) / X.educationNum.std()\n",
    "X.hoursPerWeek = (X.hoursPerWeek - X.hoursPerWeek.mean()) / X.hoursPerWeek.std()"
   ]
  },
  {
   "cell_type": "markdown",
   "metadata": {},
   "source": [
    "## Logistic Regression\n",
    "\n",
    "We tried several combinations of the variables we thought would be the most predictive."
   ]
  },
  {
   "cell_type": "code",
   "execution_count": null,
   "metadata": {},
   "outputs": [],
   "source": [
    "lm = LogisticRegression()\n",
    "Xmodel = X[['age', 'educationNum']]\n",
    "Ymodel = Y.income\n",
    "lm.fit(Xmodel, Ymodel)\n",
    "\n",
    "y_pred = lm.predict(Xmodel)\n",
    "\n",
    "display(y_pred)\n",
    "display('predicted range: [{0:.2f},{1:.2f}]'.format(min(y_pred), max(y_pred)))\n",
    "\n",
    "p,r,f,s = precision_recall_fscore_support(Ymodel, y_pred, labels=[0,1])\n",
    "display('precision = {}'.format(p))\n",
    "display('recall = {}'.format(r))\n",
    "display('f-score = {}'.format(f))"
   ]
  },
  {
   "cell_type": "code",
   "execution_count": null,
   "metadata": {},
   "outputs": [],
   "source": [
    "lm = LogisticRegression()\n",
    "Xmodel = X[['age', 'hoursPerWeek']]\n",
    "Ymodel = Y.income\n",
    "lm.fit(Xmodel, Ymodel)\n",
    "\n",
    "y_pred = lm.predict(Xmodel)\n",
    "\n",
    "display(y_pred)\n",
    "display('predicted range: [{0:.2f},{1:.2f}]'.format(min(y_pred), max(y_pred)))\n",
    "\n",
    "p,r,f,s = precision_recall_fscore_support(Ymodel, y_pred, labels=[0,1])\n",
    "display('precision = {}'.format(p))\n",
    "display('recall = {}'.format(r))\n",
    "display('f-score = {}'.format(f))"
   ]
  },
  {
   "cell_type": "code",
   "execution_count": null,
   "metadata": {},
   "outputs": [],
   "source": [
    "lm = LogisticRegression()\n",
    "Xmodel = X[['educationNum', 'hoursPerWeek']]\n",
    "Ymodel = Y.income\n",
    "lm.fit(Xmodel, Ymodel)\n",
    "\n",
    "y_pred = lm.predict(Xmodel)\n",
    "\n",
    "display(y_pred)\n",
    "display('predicted range: [{0:.2f},{1:.2f}]'.format(min(y_pred), max(y_pred)))\n",
    "\n",
    "p,r,f,s = precision_recall_fscore_support(Ymodel, y_pred, labels=[0,1])\n",
    "display('precision = {}'.format(p))\n",
    "display('recall = {}'.format(r))\n",
    "display('f-score = {}'.format(f))"
   ]
  },
  {
   "cell_type": "code",
   "execution_count": null,
   "metadata": {},
   "outputs": [],
   "source": [
    "lm = LogisticRegression()\n",
    "Xmodel = X[['age', 'educationNum', 'hoursPerWeek']]\n",
    "Ymodel = Y.income\n",
    "lm.fit(Xmodel, Ymodel)\n",
    "\n",
    "y_pred = lm.predict(Xmodel)\n",
    "\n",
    "display(y_pred)\n",
    "display('predicted range: [{0:.2f},{1:.2f}]'.format(min(y_pred), max(y_pred)))\n",
    "\n",
    "p,r,f,s = precision_recall_fscore_support(Ymodel, y_pred, labels=[0,1])\n",
    "display('precision = {}'.format(p))\n",
    "display('recall = {}'.format(r))\n",
    "display('f-score = {}'.format(f))"
   ]
  },
  {
   "cell_type": "code",
   "execution_count": null,
   "metadata": {},
   "outputs": [],
   "source": [
    "color = ['b' if y_ == 0 else 'r' for y_ in Ymodel]\n",
    "plt.scatter(Xmodel.hoursPerWeek, Xmodel.educationNum, c=color, s=2)\n",
    "plt.xlabel('Hours per Week')\n",
    "plt.ylabel('Education')"
   ]
  },
  {
   "cell_type": "code",
   "execution_count": null,
   "metadata": {},
   "outputs": [],
   "source": [
    "plt.scatter(Xmodel.hoursPerWeek, Xmodel.educationNum, c=color, s=8)\n",
    "b0 = lm.intercept_[0]\n",
    "b=lm.coef_[0]\n",
    "\n",
    "Xdb = [-3.5, 3.5]\n",
    "ydb = [-(b0+b[0]*x)/b[1] for x in Xdb]\n",
    "\n",
    "plt.plot(Xdb, ydb)\n",
    "plt.xlabel('Hours per Week')\n",
    "plt.ylabel('Education')"
   ]
  },
  {
   "cell_type": "code",
   "execution_count": null,
   "metadata": {},
   "outputs": [],
   "source": [
    "plt.scatter(Xmodel.age, Xmodel.hoursPerWeek, c=color, s=2)\n",
    "plt.ylabel('Hours per Week')\n",
    "plt.xlabel('Age')"
   ]
  },
  {
   "cell_type": "markdown",
   "metadata": {},
   "source": [
    "## Support Vector Machines"
   ]
  },
  {
   "cell_type": "code",
   "execution_count": null,
   "metadata": {},
   "outputs": [],
   "source": [
    "Xmodel = X[['age', 'educationNum']]\n",
    "Ymodel = Y.income\n"
   ]
  },
  {
   "cell_type": "markdown",
   "metadata": {},
   "source": [
    "### Linear Model"
   ]
  },
  {
   "cell_type": "code",
   "execution_count": null,
   "metadata": {},
   "outputs": [],
   "source": [
    "clf = svm.SVC(kernel='linear', class_weight={0:1,1:2})\n",
    "clf.fit(Xmodel.values, Ymodel)\n",
    "\n",
    "y_pred = clf.predict(Xmodel)\n",
    "\n",
    "p,r,f,s = precision_recall_fscore_support(Ymodel, y_pred, labels=[0,1])\n",
    "display('precision = {}'.format(p))\n",
    "display('recall = {}'.format(r))\n",
    "display('f-score = {}'.format(f))\n",
    "display('support = {}'.format(s))"
   ]
  },
  {
   "cell_type": "code",
   "execution_count": null,
   "metadata": {},
   "outputs": [],
   "source": [
    "newx = []\n",
    "newy = []\n",
    "newlabel = []\n",
    "for _ in range(5000):\n",
    "    px = random.uniform(-2,2)\n",
    "    py = random.uniform(-2.5,2.5)\n",
    "    plabel = clf.predict([[px,py]])\n",
    "    newx.append(px)\n",
    "    newy.append(py)\n",
    "    newlabel.append(plabel)\n",
    "\n",
    "color = ['r' if y_ == 0 else 'b' for y_ in newlabel]\n",
    "plt.scatter(newx, newy, c=color, marker='o', s=7)"
   ]
  },
  {
   "cell_type": "markdown",
   "metadata": {},
   "source": [
    "### Polynomial Model"
   ]
  },
  {
   "cell_type": "code",
   "execution_count": null,
   "metadata": {},
   "outputs": [],
   "source": [
    "clf = svm.SVC(kernel='poly', class_weight={0:1,1:3}, degree=2)\n",
    "clf.fit(Xmodel.values, Ymodel)\n",
    "\n",
    "y_pred = clf.predict(Xmodel)\n",
    "\n",
    "p,r,f,s = precision_recall_fscore_support(Ymodel, y_pred, labels=[0,1])\n",
    "display('precision = {}'.format(p))\n",
    "display('recall = {}'.format(r))\n",
    "display('f-score = {}'.format(f))\n",
    "display('support = {}'.format(s))"
   ]
  },
  {
   "cell_type": "code",
   "execution_count": null,
   "metadata": {},
   "outputs": [],
   "source": [
    "newx = []\n",
    "newy = []\n",
    "newlabel = []\n",
    "for _ in range(5000):\n",
    "    px = random.uniform(-2,2)\n",
    "    py = random.uniform(-2.5,2.5)\n",
    "    plabel = clf.predict([[px,py]])\n",
    "    newx.append(px)\n",
    "    newy.append(py)\n",
    "    newlabel.append(plabel)\n",
    "\n",
    "color = ['r' if y_ == 0 else 'b' for y_ in newlabel]\n",
    "plt.scatter(newx, newy, c=color, marker='o', s=7)"
   ]
  },
  {
   "cell_type": "code",
   "execution_count": null,
   "metadata": {},
   "outputs": [],
   "source": [
    "clf = svm.SVC(kernel='poly', class_weight={0:1,1:2}, degree=3)\n",
    "clf.fit(Xmodel.values, Ymodel)\n",
    "\n",
    "y_pred = clf.predict(Xmodel)\n",
    "\n",
    "p,r,f,s = precision_recall_fscore_support(Ymodel, y_pred, labels=[0,1])\n",
    "display('precision = {}'.format(p))\n",
    "display('recall = {}'.format(r))\n",
    "display('f-score = {}'.format(f))\n",
    "display('support = {}'.format(s))"
   ]
  },
  {
   "cell_type": "code",
   "execution_count": null,
   "metadata": {},
   "outputs": [],
   "source": [
    "newx = []\n",
    "newy = []\n",
    "newlabel = []\n",
    "for _ in range(5000):\n",
    "    px = random.uniform(-2,2)\n",
    "    py = random.uniform(-2.5,2.5)\n",
    "    plabel = clf.predict([[px,py]])\n",
    "    newx.append(px)\n",
    "    newy.append(py)\n",
    "    newlabel.append(plabel)\n",
    "\n",
    "color = ['r' if y_ == 0 else 'b' for y_ in newlabel]\n",
    "plt.scatter(newx, newy, c=color, marker='o', s=7)"
   ]
  },
  {
   "cell_type": "markdown",
   "metadata": {},
   "source": [
    "### RBF Model"
   ]
  },
  {
   "cell_type": "code",
   "execution_count": null,
   "metadata": {},
   "outputs": [],
   "source": [
    "clf = svm.SVC(kernel='rbf', class_weight={0:1,1:2})\n",
    "clf.fit(Xmodel.values, Ymodel)\n",
    "\n",
    "y_pred = clf.predict(Xmodel)\n",
    "\n",
    "p,r,f,s = precision_recall_fscore_support(Ymodel, y_pred, labels=[0,1])\n",
    "display('precision = {}'.format(p))\n",
    "display('recall = {}'.format(r))\n",
    "display('f-score = {}'.format(f))\n",
    "display('support = {}'.format(s))"
   ]
  },
  {
   "cell_type": "code",
   "execution_count": null,
   "metadata": {},
   "outputs": [],
   "source": [
    "newx = []\n",
    "newy = []\n",
    "newlabel = []\n",
    "for _ in range(5000):\n",
    "    px = random.uniform(-2,2)\n",
    "    py = random.uniform(-2.5,2.5)\n",
    "    plabel = clf.predict([[px,py]])\n",
    "    newx.append(px)\n",
    "    newy.append(py)\n",
    "    newlabel.append(plabel)\n",
    "\n",
    "color = ['r' if y_ == 0 else 'b' for y_ in newlabel]\n",
    "plt.scatter(newx, newy, c=color, marker='o', s=7)"
   ]
  },
  {
   "cell_type": "markdown",
   "metadata": {},
   "source": [
    "## Generalizability"
   ]
  },
  {
   "cell_type": "code",
   "execution_count": null,
   "metadata": {},
   "outputs": [],
   "source": [
    "X_train, X_test, y_train, y_test = train_test_split(Xmodel, Ymodel, test_size=0.2, random_state=42)\n",
    "\n",
    "clf.fit(X_train, y_train)\n",
    "\n",
    "y_pred = clf.predict(X_test)\n",
    "\n",
    "p,r,f,s = precision_recall_fscore_support(y_test, y_pred, labels=[0,1])\n",
    "display('Precision: {}, Recall: {}, f-score = {}, Support: {}'.format(p,r,f,s))"
   ]
  }
 ],
 "metadata": {
  "kernelspec": {
   "display_name": "Python 3",
   "language": "python",
   "name": "python3"
  },
  "language_info": {
   "codemirror_mode": {
    "name": "ipython",
    "version": 3
   },
   "file_extension": ".py",
   "mimetype": "text/x-python",
   "name": "python",
   "nbconvert_exporter": "python",
   "pygments_lexer": "ipython3",
   "version": "3.12.1"
  }
 },
 "nbformat": 4,
 "nbformat_minor": 2
}
